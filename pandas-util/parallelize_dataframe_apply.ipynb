{
 "cells": [
  {
   "cell_type": "code",
   "execution_count": 10,
   "metadata": {
    "scrolled": false
   },
   "outputs": [
    {
     "name": "stdout",
     "output_type": "stream",
     "text": [
      "data_size: 400000\n",
      "singleprocessing 6.5786 sex\n",
      "multitheading: 6.828 sec\n",
      "multiprocessing: 2.5086 sec\n"
     ]
    }
   ],
   "source": [
    "import pandas as pd\n",
    "import numpy as np\n",
    "import time\n",
    "\n",
    "from multiprocessing import Pool\n",
    "from multiprocessing.dummy import Pool as ThreadPool\n",
    "\n",
    "\n",
    "def multithreading_apply(df, func, n_threads=10):\n",
    "    df_split = np.array_split(df,n_threads*2)\n",
    "    pool = ThreadPool(n_threads)\n",
    "    df = pd.concat(pool.map(func,df_split))\n",
    "    pool.close()\n",
    "    pool.join()\n",
    "    return df\n",
    "\n",
    "def multiprocessing_apply(df, func, n_cores=4):\n",
    "    df_split = np.array_split(df,n_cores*2)\n",
    "    pool = Pool(n_cores)\n",
    "    df = pd.concat(pool.map(func,df_split))\n",
    "    pool.close()\n",
    "    pool.join()\n",
    "    return df\n",
    "\n",
    "def func(df):\n",
    "    return df.apply(lambda row: row['dummy_value']**2 + 1,axis=1)\n",
    "    \n",
    "if __name__ == '__main__':\n",
    "    df = pd.DataFrame([1,2,3,4]*100000,columns=['dummy_value'])\n",
    "    print('data_size:',len(df))\n",
    "    t = time.time()\n",
    "    df['single_processed_value'] = func(df)\n",
    "    t1 = time.time()\n",
    "    df['processed_value'] = multithreading_apply(df,func)\n",
    "    t2 = time.time()\n",
    "    df['processed2_value'] = multiprocessing_apply(df,func)\n",
    "    t3 = time.time()\n",
    "    print('singleprocessing',np.round(t1-t,4),'sec')\n",
    "    print('multitheading:',np.round(t2-t1,4),'sec')\n",
    "    print('multiprocessing:',np.round(t3-t2,4),'sec')"
   ]
  },
  {
   "cell_type": "markdown",
   "metadata": {},
   "source": [
    "### result \n",
    "computation task의 경우 threading 이득이 없음. => file, network io와 같은 block이 발생하는 task의 경우 이득발생  \n",
    "multiprocessing 의 경우 코어수에 비례해서 성능향상"
   ]
  }
 ],
 "metadata": {
  "kernelspec": {
   "display_name": "Python 3",
   "language": "python",
   "name": "python3"
  },
  "language_info": {
   "codemirror_mode": {
    "name": "ipython",
    "version": 3
   },
   "file_extension": ".py",
   "mimetype": "text/x-python",
   "name": "python",
   "nbconvert_exporter": "python",
   "pygments_lexer": "ipython3",
   "version": "3.6.1"
  }
 },
 "nbformat": 4,
 "nbformat_minor": 2
}
